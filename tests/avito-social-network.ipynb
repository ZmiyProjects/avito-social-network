{
 "cells": [
  {
   "cell_type": "code",
   "execution_count": 113,
   "metadata": {},
   "outputs": [],
   "source": [
    "import requests\n",
    "import json\n",
    "from requests.auth import HTTPBasicAuth"
   ]
  },
  {
   "cell_type": "code",
   "execution_count": 114,
   "metadata": {},
   "outputs": [],
   "source": [
    "server_url = 'http://192.168.1.64:9080'"
   ]
  },
  {
   "cell_type": "code",
   "execution_count": null,
   "metadata": {},
   "outputs": [],
   "source": [
    "users = [\n",
    "  {\n",
    "    \"user_login\": \"ivan\",\n",
    "    \"user_name\": \"Иван\",\n",
    "    \"password\": \"pass1\"\n",
    "  },\n",
    "  {\n",
    "    \"user_login\": \"s11\",\n",
    "    \"user_name\": \"Сергей\",\n",
    "    \"password\": \"pass2\"\n",
    "  },\n",
    "  {\n",
    "    \"user_login\": \"dima\",\n",
    "    \"user_name\": \"Дмитрий\",\n",
    "    \"password\": \"pass3\"\n",
    "  },\n",
    "  {\n",
    "    \"user_login\": \"ann\",\n",
    "    \"user_name\": \"Анна\",\n",
    "    \"password\": \"pass4\"\n",
    "  },\n",
    "  {\n",
    "    \"user_login\": \"m11\",\n",
    "    \"user_name\": \"Мария\",\n",
    "    \"password\": \"pass5\"\n",
    "  },\n",
    "]\n",
    "\n",
    "\n",
    "for i in users:\n",
    "    assert requests.post(url=server_url + '/users', json=i).status_code == 201"
   ]
  },
  {
   "cell_type": "code",
   "execution_count": null,
   "metadata": {},
   "outputs": [],
   "source": [
    "ivan = HTTPBasicAuth('ivan', 'pass1')\n",
    "s11 = HTTPBasicAuth('s11', 'pass2')\n",
    "dima = HTTPBasicAuth('dima', 'pass3')\n",
    "ann = HTTPBasicAuth('ann', 'pass4')\n",
    "m11 = HTTPBasicAuth('m11', 'pass5')"
   ]
  },
  {
   "cell_type": "code",
   "execution_count": null,
   "metadata": {},
   "outputs": [],
   "source": [
    "new_chat = {\n",
    "    \"chat_name\": \"Переговорная\",\n",
    "    \"users\": [2, 3]\n",
    "}\n",
    "\n",
    "assert requests.post(url=server_url + '/chats', json=new_chat, auth=ivan).status_code == 201"
   ]
  },
  {
   "cell_type": "code",
   "execution_count": null,
   "metadata": {},
   "outputs": [],
   "source": [
    "new_chat = {\n",
    "    \"chat_name\": \"Свободное общение\",\n",
    "    \"users\": [5]\n",
    "}\n",
    "\n",
    "assert requests.post(url=server_url + '/chats', json=new_chat, auth=ivan).status_code == 201"
   ]
  },
  {
   "cell_type": "code",
   "execution_count": null,
   "metadata": {},
   "outputs": [],
   "source": [
    "add_struct = {\n",
    "    'user_id': 2\n",
    "}\n",
    "\n",
    "add_result = requests.post(url=server_url + '/chats/2', json=add_struct, auth=ivan)\n",
    "assert add_result.status_code == 201\n",
    "add_result.json()"
   ]
  },
  {
   "cell_type": "code",
   "execution_count": 110,
   "metadata": {},
   "outputs": [
    {
     "ename": "AssertionError",
     "evalue": "",
     "output_type": "error",
     "traceback": [
      "\u001b[0;31m---------------------------------------------------------------------------\u001b[0m",
      "\u001b[0;31mAssertionError\u001b[0m                            Traceback (most recent call last)",
      "\u001b[0;32m<ipython-input-110-48a5fae3246d>\u001b[0m in \u001b[0;36m<module>\u001b[0;34m\u001b[0m\n\u001b[1;32m      4\u001b[0m }\n\u001b[1;32m      5\u001b[0m \u001b[0;34m\u001b[0m\u001b[0m\n\u001b[0;32m----> 6\u001b[0;31m \u001b[0;32massert\u001b[0m \u001b[0mrequests\u001b[0m\u001b[0;34m.\u001b[0m\u001b[0mpost\u001b[0m\u001b[0;34m(\u001b[0m\u001b[0murl\u001b[0m\u001b[0;34m=\u001b[0m\u001b[0mserver_url\u001b[0m \u001b[0;34m+\u001b[0m \u001b[0;34m'/chats'\u001b[0m\u001b[0;34m,\u001b[0m \u001b[0mjson\u001b[0m\u001b[0;34m=\u001b[0m\u001b[0mnew_chat\u001b[0m\u001b[0;34m,\u001b[0m \u001b[0mauth\u001b[0m\u001b[0;34m=\u001b[0m\u001b[0ms11\u001b[0m\u001b[0;34m)\u001b[0m\u001b[0;34m.\u001b[0m\u001b[0mstatus_code\u001b[0m \u001b[0;34m==\u001b[0m \u001b[0;36m201\u001b[0m\u001b[0;34m\u001b[0m\u001b[0;34m\u001b[0m\u001b[0m\n\u001b[0m",
      "\u001b[0;31mAssertionError\u001b[0m: "
     ]
    }
   ],
   "source": [
    "new_chat = {\n",
    "    \"chat_name\": \"Ни о чем\",\n",
    "    \"users\": [1, 3, 5]\n",
    "}\n",
    "\n",
    "assert requests.post(url=server_url + '/chats', json=new_chat, auth=s11).status_code == 201"
   ]
  },
  {
   "cell_type": "code",
   "execution_count": null,
   "metadata": {},
   "outputs": [],
   "source": []
  },
  {
   "cell_type": "code",
   "execution_count": 111,
   "metadata": {},
   "outputs": [
    {
     "data": {
      "text/plain": [
       "{'data': {'user_id': 1,\n",
       "  'user_name': 'Иван',\n",
       "  'created_at': '2020-06-27T18:32:28.326768',\n",
       "  'chats': [{'chat_id': 1,\n",
       "    'chat_name': 'Переговорная',\n",
       "    'created_at': '2020-06-27T18:32:32.292614'},\n",
       "   {'chat_id': 2,\n",
       "    'chat_name': 'Свободное общение',\n",
       "    'created_at': '2020-06-27T18:32:45.656998'},\n",
       "   {'chat_id': 3,\n",
       "    'chat_name': 'Ни о чем',\n",
       "    'created_at': '2020-06-27T18:32:48.881794'}]}}"
      ]
     },
     "execution_count": 111,
     "metadata": {},
     "output_type": "execute_result"
    }
   ],
   "source": [
    "ivan_account = requests.get(url=server_url + '/users/1', auth=ivan)\n",
    "assert ivan_account.status_code == 200\n",
    "ivan_account.json()"
   ]
  },
  {
   "cell_type": "code",
   "execution_count": 112,
   "metadata": {},
   "outputs": [
    {
     "data": {
      "text/plain": [
       "{'data': {'user_id': 4,\n",
       "  'user_name': 'Анна',\n",
       "  'created_at': '2020-06-27T18:32:28.940754'}}"
      ]
     },
     "execution_count": 112,
     "metadata": {},
     "output_type": "execute_result"
    }
   ],
   "source": [
    "ann_account = requests.get(url=server_url + '/users/4', auth=ivan)\n",
    "assert ann_account.status_code == 200\n",
    "ann_account.json()"
   ]
  },
  {
   "cell_type": "code",
   "execution_count": null,
   "metadata": {},
   "outputs": [],
   "source": []
  },
  {
   "cell_type": "code",
   "execution_count": 106,
   "metadata": {},
   "outputs": [
    {
     "data": {
      "text/plain": [
       "[{'chat_id': 2,\n",
       "  'chat_name': 'Свободное общение',\n",
       "  'created_at': '2020-06-27T18:32:45.656998'},\n",
       " {'chat_id': 3,\n",
       "  'chat_name': 'Ни о чем',\n",
       "  'created_at': '2020-06-27T18:32:48.881794'}]"
      ]
     },
     "execution_count": 106,
     "metadata": {},
     "output_type": "execute_result"
    }
   ],
   "source": [
    "ivan_chats = requests.get(url=server_url + '/users/1/chats', auth=ivan)\n",
    "assert ivan_chats.status_code == 200\n",
    "ivan_chats.json()"
   ]
  },
  {
   "cell_type": "code",
   "execution_count": null,
   "metadata": {},
   "outputs": [],
   "source": []
  },
  {
   "cell_type": "code",
   "execution_count": 104,
   "metadata": {},
   "outputs": [],
   "source": [
    "assert requests.get(url=server_url + '/users/2/chats', auth=ivan).status_code == 403"
   ]
  },
  {
   "cell_type": "code",
   "execution_count": 87,
   "metadata": {},
   "outputs": [
    {
     "data": {
      "text/plain": [
       "201"
      ]
     },
     "execution_count": 87,
     "metadata": {},
     "output_type": "execute_result"
    }
   ],
   "source": [
    "assert requests.post(url=server_url + '/chats/1/messages', json={\"message_text\": \"Привет\"}, auth=ivan) \\\n",
    "    .status_code == 201\n",
    "assert requests.post(url=server_url + '/chats/1/messages', json={\"message_text\": \"Ага...\"}, auth=s11) \\\n",
    "    .status_code == 201\n",
    "assert requests.post(url=server_url + '/chats/1/messages', json={\"message_text\": \"Как то так..\"}, auth=dima) \\\n",
    "    .status_code == 201\n",
    "assert requests.post(url=server_url + '/chats/1/messages', json={\"message_text\": \"Приступим!\"}, auth=ivan) \\\n",
    "    .status_code == 201"
   ]
  },
  {
   "cell_type": "code",
   "execution_count": 88,
   "metadata": {},
   "outputs": [
    {
     "name": "stdout",
     "output_type": "stream",
     "text": [
      "200\n"
     ]
    },
    {
     "data": {
      "text/plain": [
       "[{'user': {'user_id': 1, 'user_name': 'Иван'},\n",
       "  'message_id': 4,\n",
       "  'message_text': 'Приступим!',\n",
       "  'created_at': '2020-06-27T17:20:45.779644'},\n",
       " {'user': {'user_id': 3, 'user_name': 'Дмитрий'},\n",
       "  'message_id': 3,\n",
       "  'message_text': 'Как то так..',\n",
       "  'created_at': '2020-06-27T17:20:45.647198'},\n",
       " {'user': {'user_id': 2, 'user_name': 'Сергей'},\n",
       "  'message_id': 2,\n",
       "  'message_text': 'Ага...',\n",
       "  'created_at': '2020-06-27T17:20:45.527948'},\n",
       " {'user': {'user_id': 1, 'user_name': 'Иван'},\n",
       "  'message_id': 1,\n",
       "  'message_text': 'Привет',\n",
       "  'created_at': '2020-06-27T17:20:45.354349'}]"
      ]
     },
     "execution_count": 88,
     "metadata": {},
     "output_type": "execute_result"
    }
   ],
   "source": [
    "messages = requests.get(url=server_url + '/chats/1/messages', auth=ivan)\n",
    "assert messages.status_code == 200\n",
    "messages.json()"
   ]
  },
  {
   "cell_type": "code",
   "execution_count": null,
   "metadata": {},
   "outputs": [],
   "source": []
  },
  {
   "cell_type": "code",
   "execution_count": 89,
   "metadata": {},
   "outputs": [
    {
     "name": "stdout",
     "output_type": "stream",
     "text": [
      "200\n"
     ]
    },
    {
     "data": {
      "text/plain": [
       "[]"
      ]
     },
     "execution_count": 89,
     "metadata": {},
     "output_type": "execute_result"
    }
   ],
   "source": [
    "messages = requests.get(url=server_url + '/chats/2/messages', auth=ivan)\n",
    "assert messages.status_code == 200\n",
    "assert messages.json() == []"
   ]
  },
  {
   "cell_type": "code",
   "execution_count": null,
   "metadata": {},
   "outputs": [],
   "source": []
  },
  {
   "cell_type": "code",
   "execution_count": 90,
   "metadata": {},
   "outputs": [
    {
     "name": "stdout",
     "output_type": "stream",
     "text": [
      "403\n"
     ]
    }
   ],
   "source": [
    "assert requests.get(url=server_url + '/chats/2/messages', auth=ann).status_code == 403"
   ]
  },
  {
   "cell_type": "code",
   "execution_count": null,
   "metadata": {},
   "outputs": [],
   "source": []
  },
  {
   "cell_type": "code",
   "execution_count": 91,
   "metadata": {},
   "outputs": [
    {
     "data": {
      "text/plain": [
       "<Response [400]>"
      ]
     },
     "execution_count": 91,
     "metadata": {},
     "output_type": "execute_result"
    }
   ],
   "source": [
    "new_chat = {\n",
    "    \"chat_name\": \"Курилка\",\n",
    "    \"users\": [2, 9]\n",
    "}\n",
    "\n",
    "assert requests.post(url=server_url + '/chats', json=new_chat, auth=ivan) == 400"
   ]
  },
  {
   "cell_type": "code",
   "execution_count": null,
   "metadata": {},
   "outputs": [],
   "source": []
  },
  {
   "cell_type": "code",
   "execution_count": 92,
   "metadata": {},
   "outputs": [
    {
     "name": "stdout",
     "output_type": "stream",
     "text": [
      "400\n"
     ]
    }
   ],
   "source": [
    "assert requests.post(url=server_url + '/chats/2', json={\"user_id\": 10}, auth=ivan).status_code == 400"
   ]
  },
  {
   "cell_type": "code",
   "execution_count": null,
   "metadata": {},
   "outputs": [],
   "source": []
  }
 ],
 "metadata": {
  "kernelspec": {
   "display_name": "Python 3",
   "language": "python",
   "name": "python3"
  },
  "language_info": {
   "codemirror_mode": {
    "name": "ipython",
    "version": 3
   },
   "file_extension": ".py",
   "mimetype": "text/x-python",
   "name": "python",
   "nbconvert_exporter": "python",
   "pygments_lexer": "ipython3",
   "version": "3.7.6"
  }
 },
 "nbformat": 4,
 "nbformat_minor": 4
}
