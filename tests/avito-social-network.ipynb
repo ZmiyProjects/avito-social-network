{
 "cells": [
  {
   "cell_type": "code",
   "execution_count": 113,
   "metadata": {},
   "outputs": [],
   "source": [
    "import requests\n",
    "import json\n",
    "from requests.auth import HTTPBasicAuth"
   ]
  },
  {
   "cell_type": "code",
   "execution_count": 114,
   "metadata": {},
   "outputs": [],
   "source": [
    "server_url = 'http://192.168.1.64:9080'"
   ]
  },
  {
   "cell_type": "code",
   "execution_count": 115,
   "metadata": {},
   "outputs": [
    {
     "name": "stdout",
     "output_type": "stream",
     "text": [
      "201\n",
      "201\n",
      "201\n",
      "201\n",
      "201\n"
     ]
    }
   ],
   "source": [
    "users = [\n",
    "  {\n",
    "    \"user_login\": \"ivan\",\n",
    "    \"user_name\": \"Иван\",\n",
    "    \"password\": \"pass1\"\n",
    "  },\n",
    "  {\n",
    "    \"user_login\": \"s11\",\n",
    "    \"user_name\": \"Сергей\",\n",
    "    \"password\": \"pass2\"\n",
    "  },\n",
    "  {\n",
    "    \"user_login\": \"dima\",\n",
    "    \"user_name\": \"Дмитрий\",\n",
    "    \"password\": \"pass3\"\n",
    "  },\n",
    "  {\n",
    "    \"user_login\": \"ann\",\n",
    "    \"user_name\": \"Анна\",\n",
    "    \"password\": \"pass4\"\n",
    "  },\n",
    "  {\n",
    "    \"user_login\": \"m11\",\n",
    "    \"user_name\": \"Мария\",\n",
    "    \"password\": \"pass5\"\n",
    "  },\n",
    "]\n",
    "\n",
    "\n",
    "for i in users:\n",
    "    r = requests.post(url=server_url + '/users', json=i)\n",
    "    print(r.status_code)"
   ]
  },
  {
   "cell_type": "code",
   "execution_count": 116,
   "metadata": {},
   "outputs": [],
   "source": [
    "ivan = HTTPBasicAuth('ivan', 'pass1')\n",
    "s11 = HTTPBasicAuth('s11', 'pass2')\n",
    "dima = HTTPBasicAuth('dima', 'pass3')\n",
    "ann = HTTPBasicAuth('ann', 'pass4')\n",
    "m11 = HTTPBasicAuth('m11', 'pass5')"
   ]
  },
  {
   "cell_type": "code",
   "execution_count": 117,
   "metadata": {},
   "outputs": [
    {
     "data": {
      "text/plain": [
       "<Response [201]>"
      ]
     },
     "execution_count": 117,
     "metadata": {},
     "output_type": "execute_result"
    }
   ],
   "source": [
    "new_chat = {\n",
    "    \"chat_name\": \"Переговорная\",\n",
    "    \"users\": [2, 3]\n",
    "}\n",
    "\n",
    "requests.post(url=server_url + '/chats', json=new_chat, auth=ivan)"
   ]
  },
  {
   "cell_type": "code",
   "execution_count": 118,
   "metadata": {},
   "outputs": [
    {
     "data": {
      "text/plain": [
       "<Response [201]>"
      ]
     },
     "execution_count": 118,
     "metadata": {},
     "output_type": "execute_result"
    }
   ],
   "source": [
    "new_chat = {\n",
    "    \"chat_name\": \"Свободное общение\",\n",
    "    \"users\": [5]\n",
    "}\n",
    "\n",
    "requests.post(url=server_url + '/chats', json=new_chat, auth=ivan)"
   ]
  },
  {
   "cell_type": "code",
   "execution_count": 119,
   "metadata": {},
   "outputs": [
    {
     "name": "stdout",
     "output_type": "stream",
     "text": [
      "201\n"
     ]
    },
    {
     "data": {
      "text/plain": [
       "{'data': {'chat_id': 2,\n",
       "  'chat_name': 'Свободное общение',\n",
       "  'members': [{'user_id': 1, 'user_name': 'Иван'},\n",
       "   {'user_id': 2, 'user_name': 'Сергей'},\n",
       "   {'user_id': 5, 'user_name': 'Мария'}]}}"
      ]
     },
     "execution_count": 119,
     "metadata": {},
     "output_type": "execute_result"
    }
   ],
   "source": [
    "add_struct = {\n",
    "    'user_id': 2\n",
    "}\n",
    "\n",
    "add_result = requests.post(url=server_url + '/chats/2', json=add_struct, auth=ivan)\n",
    "print(add_result.status_code)\n",
    "add_result.json()"
   ]
  },
  {
   "cell_type": "code",
   "execution_count": 120,
   "metadata": {},
   "outputs": [
    {
     "data": {
      "text/plain": [
       "<Response [201]>"
      ]
     },
     "execution_count": 120,
     "metadata": {},
     "output_type": "execute_result"
    }
   ],
   "source": [
    "new_chat = {\n",
    "    \"chat_name\": \"Ни о чем\",\n",
    "    \"users\": [1, 3, 5]\n",
    "}\n",
    "\n",
    "requests.post(url=server_url + '/chats', json=new_chat, auth=s11)"
   ]
  },
  {
   "cell_type": "code",
   "execution_count": null,
   "metadata": {},
   "outputs": [],
   "source": []
  },
  {
   "cell_type": "code",
   "execution_count": 121,
   "metadata": {},
   "outputs": [
    {
     "name": "stdout",
     "output_type": "stream",
     "text": [
      "200\n"
     ]
    },
    {
     "data": {
      "text/plain": [
       "{'data': {'user_id': 1,\n",
       "  'user_name': 'Иван',\n",
       "  'created_at': '2020-06-27T13:34:38.537739',\n",
       "  'chats': [{'chat_id': 1,\n",
       "    'chat_name': 'Переговорная',\n",
       "    'created_at': '2020-06-27T13:34:39.648871'},\n",
       "   {'chat_id': 2,\n",
       "    'chat_name': 'Свободное общение',\n",
       "    'created_at': '2020-06-27T13:34:39.86608'},\n",
       "   {'chat_id': 3,\n",
       "    'chat_name': 'Ни о чем',\n",
       "    'created_at': '2020-06-27T13:34:40.307243'}]}}"
      ]
     },
     "execution_count": 121,
     "metadata": {},
     "output_type": "execute_result"
    }
   ],
   "source": [
    "ivan_account = requests.get(url=server_url + '/users/1', auth=ivan)\n",
    "print(ivan_account.status_code)\n",
    "ivan_account.json()"
   ]
  },
  {
   "cell_type": "code",
   "execution_count": 122,
   "metadata": {},
   "outputs": [
    {
     "name": "stdout",
     "output_type": "stream",
     "text": [
      "200\n"
     ]
    },
    {
     "data": {
      "text/plain": [
       "{'data': {'user_id': 4,\n",
       "  'user_name': 'Анна',\n",
       "  'created_at': '2020-06-27T13:34:39.131646'}}"
      ]
     },
     "execution_count": 122,
     "metadata": {},
     "output_type": "execute_result"
    }
   ],
   "source": [
    "ann_account = requests.get(url=server_url + '/users/4', auth=ivan)\n",
    "print(ann_account.status_code)\n",
    "ann_account.json()"
   ]
  },
  {
   "cell_type": "code",
   "execution_count": null,
   "metadata": {},
   "outputs": [],
   "source": []
  },
  {
   "cell_type": "code",
   "execution_count": 123,
   "metadata": {},
   "outputs": [
    {
     "name": "stdout",
     "output_type": "stream",
     "text": [
      "200\n"
     ]
    },
    {
     "data": {
      "text/plain": [
       "[{'chat_id': 2,\n",
       "  'chat_name': 'Свободное общение',\n",
       "  'created_at': '2020-06-27T13:34:39.86608'},\n",
       " {'chat_id': 3,\n",
       "  'chat_name': 'Ни о чем',\n",
       "  'created_at': '2020-06-27T13:34:40.307243'}]"
      ]
     },
     "execution_count": 123,
     "metadata": {},
     "output_type": "execute_result"
    }
   ],
   "source": [
    "ivan_chats = requests.get(url=server_url + '/users/1/chats', auth=ivan)\n",
    "print(ivan_chats.status_code)\n",
    "ivan_chats.json()"
   ]
  },
  {
   "cell_type": "code",
   "execution_count": null,
   "metadata": {},
   "outputs": [],
   "source": []
  },
  {
   "cell_type": "code",
   "execution_count": 124,
   "metadata": {},
   "outputs": [
    {
     "name": "stdout",
     "output_type": "stream",
     "text": [
      "403\n"
     ]
    }
   ],
   "source": [
    "no_ivan_chats = requests.get(url=server_url + '/users/2/chats', auth=ivan)\n",
    "print(no_ivan_chats.status_code)"
   ]
  },
  {
   "cell_type": "code",
   "execution_count": 125,
   "metadata": {},
   "outputs": [
    {
     "data": {
      "text/plain": [
       "201"
      ]
     },
     "execution_count": 125,
     "metadata": {},
     "output_type": "execute_result"
    }
   ],
   "source": [
    "requests.post(url=server_url + '/chats/1/messages', json={\"message_text\": \"Привет\"}, auth=ivan).status_code\n",
    "requests.post(url=server_url + '/chats/1/messages', json={\"message_text\": \"Ага...\"}, auth=s11).status_code\n",
    "requests.post(url=server_url + '/chats/1/messages', json={\"message_text\": \"Как то так..\"}, auth=dima).status_code\n",
    "requests.post(url=server_url + '/chats/1/messages', json={\"message_text\": \"Приступим!\"}, auth=ivan).status_code"
   ]
  },
  {
   "cell_type": "code",
   "execution_count": 126,
   "metadata": {},
   "outputs": [
    {
     "name": "stdout",
     "output_type": "stream",
     "text": [
      "200\n"
     ]
    },
    {
     "data": {
      "text/plain": [
       "[{'user': {'user_id': 1, 'user_name': 'Иван'},\n",
       "  'message_id': 4,\n",
       "  'message_text': 'Приступим!',\n",
       "  'created_at': '2020-06-27T13:34:46.31404'},\n",
       " {'user': {'user_id': 3, 'user_name': 'Дмитрий'},\n",
       "  'message_id': 3,\n",
       "  'message_text': 'Как то так..',\n",
       "  'created_at': '2020-06-27T13:34:46.115073'},\n",
       " {'user': {'user_id': 2, 'user_name': 'Сергей'},\n",
       "  'message_id': 2,\n",
       "  'message_text': 'Ага...',\n",
       "  'created_at': '2020-06-27T13:34:45.919556'},\n",
       " {'user': {'user_id': 1, 'user_name': 'Иван'},\n",
       "  'message_id': 1,\n",
       "  'message_text': 'Привет',\n",
       "  'created_at': '2020-06-27T13:34:45.720527'}]"
      ]
     },
     "execution_count": 126,
     "metadata": {},
     "output_type": "execute_result"
    }
   ],
   "source": [
    "messages = requests.get(url=server_url + '/chats/1/messages', auth=ivan)\n",
    "print(messages.status_code)\n",
    "messages.json()"
   ]
  },
  {
   "cell_type": "code",
   "execution_count": null,
   "metadata": {},
   "outputs": [],
   "source": []
  },
  {
   "cell_type": "code",
   "execution_count": 127,
   "metadata": {},
   "outputs": [
    {
     "name": "stdout",
     "output_type": "stream",
     "text": [
      "200\n"
     ]
    },
    {
     "data": {
      "text/plain": [
       "[]"
      ]
     },
     "execution_count": 127,
     "metadata": {},
     "output_type": "execute_result"
    }
   ],
   "source": [
    "messages = requests.get(url=server_url + '/chats/2/messages', auth=ivan)\n",
    "print(messages.status_code)\n",
    "messages.json()"
   ]
  },
  {
   "cell_type": "code",
   "execution_count": null,
   "metadata": {},
   "outputs": [],
   "source": []
  },
  {
   "cell_type": "code",
   "execution_count": 128,
   "metadata": {},
   "outputs": [
    {
     "name": "stdout",
     "output_type": "stream",
     "text": [
      "403\n"
     ]
    }
   ],
   "source": [
    "messages = requests.get(url=server_url + '/chats/2/messages', auth=ann)\n",
    "print(messages.status_code)"
   ]
  },
  {
   "cell_type": "code",
   "execution_count": null,
   "metadata": {},
   "outputs": [],
   "source": []
  }
 ],
 "metadata": {
  "kernelspec": {
   "display_name": "Python 3",
   "language": "python",
   "name": "python3"
  },
  "language_info": {
   "codemirror_mode": {
    "name": "ipython",
    "version": 3
   },
   "file_extension": ".py",
   "mimetype": "text/x-python",
   "name": "python",
   "nbconvert_exporter": "python",
   "pygments_lexer": "ipython3",
   "version": "3.7.6"
  }
 },
 "nbformat": 4,
 "nbformat_minor": 4
}
