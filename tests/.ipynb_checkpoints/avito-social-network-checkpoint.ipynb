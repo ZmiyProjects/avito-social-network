{
 "cells": [
  {
   "cell_type": "code",
   "execution_count": 38,
   "metadata": {},
   "outputs": [],
   "source": [
    "import requests\n",
    "import json\n",
    "from requests.auth import HTTPBasicAuth"
   ]
  },
  {
   "cell_type": "code",
   "execution_count": 53,
   "metadata": {},
   "outputs": [],
   "source": [
    "server_url = 'http://192.168.1.76:9080'"
   ]
  },
  {
   "cell_type": "code",
   "execution_count": 54,
   "metadata": {},
   "outputs": [
    {
     "name": "stdout",
     "output_type": "stream",
     "text": [
      "201\n",
      "201\n",
      "201\n",
      "201\n",
      "201\n"
     ]
    }
   ],
   "source": [
    "users = [\n",
    "  {\n",
    "    \"user_login\": \"ivan\",\n",
    "    \"user_name\": \"Иван\",\n",
    "    \"password\": \"pass1\"\n",
    "  },\n",
    "  {\n",
    "    \"user_login\": \"s11\",\n",
    "    \"user_name\": \"Сергей\",\n",
    "    \"password\": \"pass2\"\n",
    "  },\n",
    "  {\n",
    "    \"user_login\": \"dima\",\n",
    "    \"user_name\": \"Дмитрий\",\n",
    "    \"password\": \"pass3\"\n",
    "  },\n",
    "  {\n",
    "    \"user_login\": \"ann\",\n",
    "    \"user_name\": \"Анна\",\n",
    "    \"password\": \"pass4\"\n",
    "  },\n",
    "  {\n",
    "    \"user_login\": \"m11\",\n",
    "    \"user_name\": \"Мария\",\n",
    "    \"password\": \"pass5\"\n",
    "  },\n",
    "]\n",
    "\n",
    "\n",
    "for i in users:\n",
    "    r = requests.post(url=server_url + '/users', json=i)\n",
    "    print(r.status_code)"
   ]
  },
  {
   "cell_type": "code",
   "execution_count": 55,
   "metadata": {},
   "outputs": [],
   "source": [
    "ivan = HTTPBasicAuth('ivan', 'pass1')"
   ]
  },
  {
   "cell_type": "code",
   "execution_count": 56,
   "metadata": {},
   "outputs": [
    {
     "data": {
      "text/plain": [
       "<Response [201]>"
      ]
     },
     "execution_count": 56,
     "metadata": {},
     "output_type": "execute_result"
    }
   ],
   "source": [
    "new_chat = {\n",
    "    \"chat_name\": \"Переговорная\",\n",
    "    \"users\": [2, 3]\n",
    "}\n",
    "\n",
    "requests.post(url=server_url + '/chats', json=new_chat, auth=ivan)"
   ]
  },
  {
   "cell_type": "code",
   "execution_count": 57,
   "metadata": {},
   "outputs": [
    {
     "data": {
      "text/plain": [
       "<Response [201]>"
      ]
     },
     "execution_count": 57,
     "metadata": {},
     "output_type": "execute_result"
    }
   ],
   "source": [
    "new_chat = {\n",
    "    \"chat_name\": \"Свободное общение\",\n",
    "    \"users\": [5]\n",
    "}\n",
    "\n",
    "requests.post(url=server_url + '/chats', json=new_chat, auth=ivan)"
   ]
  },
  {
   "cell_type": "code",
   "execution_count": null,
   "metadata": {},
   "outputs": [],
   "source": []
  },
  {
   "cell_type": "code",
   "execution_count": 58,
   "metadata": {},
   "outputs": [
    {
     "name": "stdout",
     "output_type": "stream",
     "text": [
      "200\n"
     ]
    },
    {
     "data": {
      "text/plain": [
       "{'data': {'user_id': 1,\n",
       "  'user_name': 'Иван',\n",
       "  'created_at': '2020-06-26T17:42:59.189843',\n",
       "  'chats': [{'chat_id': 1,\n",
       "    'chat_name': 'Переговорная',\n",
       "    'created_at': '2020-06-26T17:42:59.937193'},\n",
       "   {'chat_id': 2,\n",
       "    'chat_name': 'Свободное общение',\n",
       "    'created_at': '2020-06-26T17:43:00.119463'}]},\n",
       " 'user': 1}"
      ]
     },
     "execution_count": 58,
     "metadata": {},
     "output_type": "execute_result"
    }
   ],
   "source": [
    "ivan_account = requests.get(url=server_url + '/users/1', auth=ivan)\n",
    "print(ivan_account.status_code)\n",
    "ivan_account.json()"
   ]
  },
  {
   "cell_type": "code",
   "execution_count": 59,
   "metadata": {},
   "outputs": [
    {
     "name": "stdout",
     "output_type": "stream",
     "text": [
      "200\n"
     ]
    },
    {
     "data": {
      "text/plain": [
       "{'data': {'user_id': 4,\n",
       "  'user_name': 'Анна',\n",
       "  'created_at': '2020-06-26T17:42:59.551489'},\n",
       " 'user': 1}"
      ]
     },
     "execution_count": 59,
     "metadata": {},
     "output_type": "execute_result"
    }
   ],
   "source": [
    "ann_account = requests.get(url=server_url + '/users/4', auth=ivan)\n",
    "print(ann_account.status_code)\n",
    "ann_account.json()"
   ]
  },
  {
   "cell_type": "code",
   "execution_count": null,
   "metadata": {},
   "outputs": [],
   "source": []
  }
 ],
 "metadata": {
  "kernelspec": {
   "display_name": "Python 3",
   "language": "python",
   "name": "python3"
  },
  "language_info": {
   "codemirror_mode": {
    "name": "ipython",
    "version": 3
   },
   "file_extension": ".py",
   "mimetype": "text/x-python",
   "name": "python",
   "nbconvert_exporter": "python",
   "pygments_lexer": "ipython3",
   "version": "3.7.7"
  }
 },
 "nbformat": 4,
 "nbformat_minor": 4
}
